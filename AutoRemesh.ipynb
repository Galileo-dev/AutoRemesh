{
 "cells": [
  {
   "cell_type": "code",
   "execution_count": null,
   "metadata": {},
   "outputs": [],
   "source": [
    "vertices = []\n",
    "faces = []\n",
    "\n",
    "with open(\"assets/cube.obj\", \"r\") as f:\n",
    "    for line in f:\n",
    "        elements = line.strip().split()\n",
    "        if len(elements) == 0:\n",
    "            continue\n",
    "        if elements[0] == \"v\":\n",
    "            x, y, z = [float(x) for x in elements[1:]]\n",
    "            vertices.append((x, y, z))\n",
    "        elif elements[0] == \"f\":\n",
    "            face = [int(x.split(\"/\")[0]) - 1 for x in elements[1:]]\n",
    "            faces.append(face)\n",
    "\n",
    "# print(\"Vertices:\", vertices)\n",
    "# print(\"Faces:\", faces)"
   ]
  },
  {
   "cell_type": "code",
   "execution_count": 8,
   "metadata": {},
   "outputs": [
    {
     "name": "stdout",
     "output_type": "stream",
     "text": [
      "Requirement already satisfied: annoy in e:\\programs\\scoop\\persist\\python310\\lib\\site-packages (1.17.1)\n",
      "Note: you may need to restart the kernel to use updated packages.\n"
     ]
    },
    {
     "name": "stderr",
     "output_type": "stream",
     "text": [
      "WARNING: Ignoring invalid distribution -cipy (e:\\programs\\scoop\\persist\\python310\\lib\\site-packages)\n",
      "WARNING: Ignoring invalid distribution -cipy (e:\\programs\\scoop\\persist\\python310\\lib\\site-packages)\n",
      "WARNING: Ignoring invalid distribution -cipy (e:\\programs\\scoop\\persist\\python310\\lib\\site-packages)\n",
      "WARNING: Ignoring invalid distribution -cipy (e:\\programs\\scoop\\persist\\python310\\lib\\site-packages)\n",
      "WARNING: Ignoring invalid distribution -cipy (e:\\programs\\scoop\\persist\\python310\\lib\\site-packages)\n",
      "WARNING: Ignoring invalid distribution -cipy (e:\\programs\\scoop\\persist\\python310\\lib\\site-packages)\n",
      "\n",
      "[notice] A new release of pip available: 22.3.1 -> 23.0\n",
      "[notice] To update, run: python.exe -m pip install --upgrade pip\n"
     ]
    }
   ],
   "source": [
    "%pip install annoy"
   ]
  },
  {
   "cell_type": "code",
   "execution_count": 9,
   "metadata": {},
   "outputs": [],
   "source": [
    "import numpy as np\n",
    "import annoy\n",
    "import joblib\n",
    "\n",
    "\n",
    "def compute_density_field(vertices, sigma):\n",
    "    n = len(vertices)\n",
    "    X = np.array(vertices)\n",
    "    D = np.zeros(n)\n",
    "    for i, x in enumerate(X):\n",
    "        distances = np.linalg.norm(X - x, axis=1)\n",
    "        D[i] = np.exp(-distances**2 / (2 * sigma**2)).sum()\n",
    "    return D\n",
    "\n",
    "density_field = joblib.Parallel(n_jobs=-1)(\n",
    "    joblib.delayed(compute_density_field)(vertices, sigma=0.1) for _ in range(len(vertices))\n",
    ")\n",
    "density_field = np.array(density_field).sum(axis=0)\n",
    "seed_points = np.argwhere(density_field == density_field.max()).flatten()\n",
    "\n",
    "print(\"Seed points:\", seed_points)"
   ]
  }
 ],
 "metadata": {
  "kernelspec": {
   "display_name": "Python 3",
   "language": "python",
   "name": "python3"
  },
  "language_info": {
   "codemirror_mode": {
    "name": "ipython",
    "version": 3
   },
   "file_extension": ".py",
   "mimetype": "text/x-python",
   "name": "python",
   "nbconvert_exporter": "python",
   "pygments_lexer": "ipython3",
   "version": "3.10.9"
  },
  "orig_nbformat": 4,
  "vscode": {
   "interpreter": {
    "hash": "9ce3f09096f1bc883e4efbc08284950c39e7f8d669e4738fedb813ecc6ba7bd4"
   }
  }
 },
 "nbformat": 4,
 "nbformat_minor": 2
}
